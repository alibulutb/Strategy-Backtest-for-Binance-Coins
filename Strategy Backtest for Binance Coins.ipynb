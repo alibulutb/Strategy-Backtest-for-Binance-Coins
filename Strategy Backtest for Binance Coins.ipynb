{
 "cells": [
  {
   "cell_type": "code",
   "execution_count": 1,
   "id": "70422320",
   "metadata": {},
   "outputs": [],
   "source": [
    "# import libraries\n",
    "from binance import Client\n",
    "import csv\n",
    "import pandas as pd\n",
    "from datetime import datetime as dt\n",
    "import pandas_ta as ta\n",
    "import numpy as np"
   ]
  },
  {
   "cell_type": "code",
   "execution_count": 2,
   "id": "d157e49b",
   "metadata": {},
   "outputs": [],
   "source": [
    "client = Client(None, None)"
   ]
  },
  {
   "cell_type": "code",
   "execution_count": 3,
   "id": "78d4792d",
   "metadata": {},
   "outputs": [],
   "source": [
    "# defining the function that fetch the historical data of the wanted coin\n",
    "def getdata(symbol, period, start, end):\n",
    "    \"\"\"\n",
    "    This function gives us the historical candle data of the desired coin\n",
    "    :param symbol: coin name that you want to get data\n",
    "    :param period: time period of candles\n",
    "    :param start: starting date of candles data\n",
    "    :param end: end date of candles data\n",
    "    :return: candles data\n",
    "    \"\"\"\n",
    "    candles = client.get_historical_klines(symbol, period, start, end)\n",
    "    return candles"
   ]
  },
  {
   "cell_type": "code",
   "execution_count": 4,
   "id": "cca1ad93",
   "metadata": {},
   "outputs": [],
   "source": [
    "# defining the function that make csv file of the historical data of the wanted coin\n",
    "def make_csv(symbol, candles):\n",
    "    \"\"\"\n",
    "    This function makes csv file of desired coin with defined properties\n",
    "    :param symbol: coin name that you want to make csv file\n",
    "    :param candles: historical data of the desired coin\n",
    "    :return: historical data in csv file\n",
    "    \"\"\"\n",
    "    csvfile = open(symbol + \".csv\", \"a\", newline=\"\")\n",
    "    cursor = csv.writer(csvfile)\n",
    "    for i in candles:\n",
    "        cursor.writerow(i)\n",
    "    csvfile.close()"
   ]
  },
  {
   "cell_type": "code",
   "execution_count": 5,
   "id": "bebbaf5b",
   "metadata": {},
   "outputs": [],
   "source": [
    "# defining the function that make csv files of the historical data of the wanted multiple coin\n",
    "def multiple_csv(symbols, interval, start, end):\n",
    "    \"\"\"\n",
    "    This function makes csv file for each coin in symbols parameter with defined properties\n",
    "    :param symbols: list of multiple coin names that you want to make csv file\n",
    "    :param interval: time period of candles (default: client.KLINE_INTERVAL_1DAY you can change the interval)\n",
    "    :param start: starting date of candles data\n",
    "    :param end: end date of candles data\n",
    "    :return: historical data of multiple coin in csv files\n",
    "    \"\"\"\n",
    "    for i in symbols:\n",
    "        make_csv(i, getdata(i, interval, str(start), str(end)))\n",
    "        print(i, \"csv file is ready.\")"
   ]
  },
  {
   "cell_type": "code",
   "execution_count": 6,
   "id": "40dd62dd",
   "metadata": {},
   "outputs": [],
   "source": [
    "# defining the function that make a coin list from binance include just USDT in their symbols\n",
    "def make_coin_list():\n",
    "    \"\"\"\n",
    "    This function makes a list that contain coin names just include USDT in their symbols\n",
    "    :return: coin symbols list with just USDT\n",
    "    \"\"\"\n",
    "    symbols = []\n",
    "    info = client.get_all_tickers()\n",
    "    for i in info:\n",
    "        if \"USDT\" in i[\"symbol\"]:\n",
    "            if \"DOWN\" in i[\"symbol\"] or \"UP\" in i[\"symbol\"]:\n",
    "                pass\n",
    "            else:\n",
    "                symbollist.append(i[\"symbol\"])\n",
    "    return symbols"
   ]
  },
  {
   "cell_type": "code",
   "execution_count": 7,
   "id": "3facaeed",
   "metadata": {},
   "outputs": [],
   "source": [
    "# defining function the that turn the timestamp to the date \n",
    "def calculate_time(timestamp):\n",
    "    \"\"\"\n",
    "    This function turns the timestamp to the date\n",
    "    :param timestamp: given timestamp\n",
    "    :return: date according to given timestamp\n",
    "    \"\"\"\n",
    "    return dt.fromtimestamp(timestamp/1000)"
   ]
  },
  {
   "cell_type": "code",
   "execution_count": 8,
   "id": "9d108d38",
   "metadata": {},
   "outputs": [],
   "source": [
    "# defining the function that make csv file for each coin that include USDT in their symbols\n",
    "def all_usdt_data():\n",
    "    \"\"\"\n",
    "    This function makes csv files for coins that include USDT in their symbols\n",
    "    :return: csv files of historical data of all coins that include USDT in their symbols in Binance\n",
    "    \"\"\"\n",
    "    for i in make_coin_list():\n",
    "        multiple_csv([i], client.KLINE_INTERVAL_4HOUR, \"8 November 2021\", \"8 September 2022\")"
   ]
  },
  {
   "cell_type": "code",
   "execution_count": 9,
   "id": "5e3e8cb9",
   "metadata": {},
   "outputs": [
    {
     "name": "stdout",
     "output_type": "stream",
     "text": [
      "BTCUSDT csv file is ready.\n",
      "XRPUSDT csv file is ready.\n",
      "DOTUSDT csv file is ready.\n",
      "ETHUSDT csv file is ready.\n"
     ]
    }
   ],
   "source": [
    "multiple_csv([\"BTCUSDT\", \"XRPUSDT\", \"DOTUSDT\", \"ETHUSDT\"], client.KLINE_INTERVAL_4HOUR, \"8 November 2021\", \"8 September 2022\")"
   ]
  },
  {
   "cell_type": "code",
   "execution_count": 10,
   "id": "288ff480",
   "metadata": {},
   "outputs": [],
   "source": [
    "# example strategy function\n",
    "def strategyA(coin:str):\n",
    "    usdtpertrade = 100\n",
    "    buycount = 0\n",
    "    sellcount = 0\n",
    "    totalcoin = 0\n",
    "    comission_rate = 75/10000\n",
    "    comission = 0\n",
    "    coin_csv = coin + \".csv\"\n",
    "    headers = [\"Open Time\", \"Open\", \"High\", \"Low\", \"Close\", \"Volume\", \"Close Time\", \"QAV\", \"NAT\", \"TBBAV\", \"TBQAV\", \"Ignore\"]\n",
    "    coin_data = pd.read_csv(coin_csv, names=headers)\n",
    "    close = coin_data[\"Close\"]\n",
    "    o_time = coin_data[\"Open Time\"]\n",
    "    sma50 = ta.ma(\"sma\", close, length=50)\n",
    "    sma200 = ta.ma(\"sma\", close, length=200)\n",
    "    transactions = [\"sell\"]\n",
    "    print(\"*********************************************************************\")\n",
    "    for i in range(len(close)):\n",
    "        \n",
    "        if pd.isna(sma50[i]) is False:\n",
    "            \n",
    "            if sma50[i-1] < sma200[i-1] and sma50[i] > sma200[i] and transactions[-1] != \"buy\":\n",
    "                print(\"On\", calculate_time(o_time[i+1]), usdtpertrade/close[i], coin, \"were purchased.\")\n",
    "                buycount += 1\n",
    "                totalcoin = usdtpertrade/close[i]\n",
    "                comission += comission_rate * usdtpertrade\n",
    "                transactions.append(\"buy\")\n",
    "            \n",
    "            if sma50[i-1] > sma200[i-1] and sma50[i] < sma200[i] and transactions[-1] != \"sell\":\n",
    "                print(\"On\", calculate_time(o_time[i+1]), totalcoin, coin, \"were sold.\")\n",
    "                sellcount += 1\n",
    "                price = totalcoin * close[i]\n",
    "                wallet = price\n",
    "                totalcoin = 0\n",
    "                comission += comission_rate * price\n",
    "                transactions.append(\"sell\")\n",
    "                print(\"Wallet Amount after Transactions:\", wallet)\n",
    "                print(\"*********************************************************************\")\n",
    "                \n",
    "                \n",
    "    print(\"İnitial Wallet Amount:\", 100)\n",
    "    print(\"Total Transactions Performed:\", buycount + sellcount)\n",
    "    print(\"Total Comission:\", comission)\n",
    "    print(\"Current Wallet Amount:\", wallet - comission)"
   ]
  },
  {
   "cell_type": "code",
   "execution_count": 11,
   "id": "fa2afe11",
   "metadata": {},
   "outputs": [
    {
     "name": "stdout",
     "output_type": "stream",
     "text": [
      "*********************************************************************\n",
      "On 2022-01-02 11:00:00 3.527336860670194 DOTUSDT were purchased.\n",
      "On 2022-01-09 19:00:00 3.527336860670194 DOTUSDT were sold.\n",
      "Wallet Amount after Transactions: 85.99647266313931\n",
      "*********************************************************************\n",
      "On 2022-03-17 07:00:00 5.2328623757195185 DOTUSDT were purchased.\n",
      "On 2022-04-12 23:00:00 5.2328623757195185 DOTUSDT were sold.\n",
      "Wallet Amount after Transactions: 90.00523286237572\n",
      "*********************************************************************\n",
      "On 2022-07-22 15:00:00 12.804097311139566 DOTUSDT were purchased.\n",
      "On 2022-08-22 15:00:00 12.804097311139566 DOTUSDT were sold.\n",
      "Wallet Amount after Transactions: 91.8053777208707\n",
      "*********************************************************************\n",
      "İnitial Wallet Amount: 100\n",
      "Total Transactions Performed: 6\n",
      "Total Comission: 4.258553124347893\n",
      "Current Wallet Amount: 87.5468245965228\n"
     ]
    }
   ],
   "source": [
    "strategyA(\"DOTUSDT\")"
   ]
  },
  {
   "cell_type": "code",
   "execution_count": 12,
   "id": "f7a35d0f",
   "metadata": {},
   "outputs": [
    {
     "name": "stdout",
     "output_type": "stream",
     "text": [
      "*********************************************************************\n",
      "On 2022-02-09 11:00:00 0.03219647577376181 ETHUSDT were purchased.\n",
      "On 2022-02-24 15:00:00 0.03219647577376181 ETHUSDT were sold.\n",
      "Wallet Amount after Transactions: 77.0947832050304\n",
      "*********************************************************************\n",
      "On 2022-03-21 03:00:00 0.034948171861129945 ETHUSDT were purchased.\n",
      "On 2022-04-16 11:00:00 0.034948171861129945 ETHUSDT were sold.\n",
      "Wallet Amount after Transactions: 106.05512025665938\n",
      "*********************************************************************\n",
      "On 2022-07-14 19:00:00 0.08764625969586748 ETHUSDT were purchased.\n",
      "On 2022-08-24 23:00:00 0.08764625969586748 ETHUSDT were sold.\n",
      "Wallet Amount after Transactions: 147.12213506288617\n",
      "*********************************************************************\n",
      "İnitial Wallet Amount: 100\n",
      "Total Transactions Performed: 6\n",
      "Total Comission: 4.727040288934319\n",
      "Current Wallet Amount: 142.39509477395185\n"
     ]
    }
   ],
   "source": [
    "strategyA(\"ETHUSDT\")"
   ]
  },
  {
   "cell_type": "code",
   "execution_count": 13,
   "id": "c40a1d0b",
   "metadata": {},
   "outputs": [],
   "source": [
    "# example strategy function\n",
    "def strategyB(coin:str):\n",
    "    usdtpertrade = 100\n",
    "    buycount = 0\n",
    "    sellcount = 0\n",
    "    totalcoin = 0\n",
    "    comission_rate = 75/10000\n",
    "    comission = 0\n",
    "    coin_csv = coin + \".csv\"\n",
    "    headers = [\"Open Time\", \"Open\", \"High\", \"Low\", \"Close\", \"Vol\", \"Close Time\", \"QAV\", \"NAT\", \"TBBAV\", \"TBQAV\", \"Ignore\"]\n",
    "    coin_data = pd.read_csv(coin_csv, names=headers)\n",
    "    close = coin_data[\"Close\"]\n",
    "    o_time = coin_data[\"Open Time\"]\n",
    "    macd = ta.macd(close, 12,26,9)\n",
    "    rsi = ta.rsi(close)\n",
    "    ema20 = ta.ema(close, length=50)\n",
    "    ema50 = ta.ema(close, length=200)\n",
    "    transactions = [\"sell\"]\n",
    "    print(\"*********************************************************************\")\n",
    "    for i in range(len(close)):\n",
    "        \n",
    "        if pd.isna(macd[\"MACD_12_26_9\"][i]) is False:\n",
    "            \n",
    "            if macd[\"MACD_12_26_9\"][i] > 0 and transactions[-1] != \"buy\" and ema20[i] > ema50[i]:\n",
    "                print(\"On\", calculate_time(o_time[i+1]), usdtpertrade/close[i], coin, \"were purchased.\")\n",
    "                buycount += 1\n",
    "                totalcoin = usdtpertrade/close[i]\n",
    "                comission += comission_rate * usdtpertrade\n",
    "                transactions.append(\"buy\")\n",
    "                \n",
    "            if macd[\"MACD_12_26_9\"][i] < 0 and transactions[-1] != \"sell\" and ema20[i] < ema50[i] and rsi[i] <= 70:\n",
    "                print(\"On\", calculate_time(o_time[i+1]), totalcoin, coin, \"were sold.\")\n",
    "                sellcount += 1\n",
    "                price = close[i] * totalcoin\n",
    "                wallet = price\n",
    "                totalcoin = 0\n",
    "                comission += comission_rate * price\n",
    "                transactions.append(\"sell\")\n",
    "                print(\"Wallet Amount after Transactions:\", wallet)\n",
    "                print(\"*********************************************************************\")\n",
    "    \n",
    "    print(\"İnitial Wallet Amount:\", 100)\n",
    "    print(\"Total Transactions Performed:\", buycount + sellcount)\n",
    "    print(\"Total Comission:\", comission)\n",
    "    print(\"Current Wallet Amount:\", wallet - comission)"
   ]
  },
  {
   "cell_type": "code",
   "execution_count": 14,
   "id": "c8f31cb3",
   "metadata": {},
   "outputs": [
    {
     "name": "stdout",
     "output_type": "stream",
     "text": [
      "*********************************************************************\n",
      "On 2022-02-09 03:00:00 114.11617026132603 XRPUSDT were purchased.\n",
      "On 2022-02-24 11:00:00 114.11617026132603 XRPUSDT were sold.\n",
      "Wallet Amount after Transactions: 73.36528586100651\n",
      "*********************************************************************\n",
      "On 2022-03-02 07:00:00 128.5512276642242 XRPUSDT were purchased.\n",
      "On 2022-03-05 03:00:00 128.5512276642242 XRPUSDT were sold.\n",
      "Wallet Amount after Transactions: 91.61845995629258\n",
      "*********************************************************************\n",
      "On 2022-03-12 11:00:00 125.6123602562492 XRPUSDT were purchased.\n",
      "On 2022-04-09 03:00:00 125.6123602562492 XRPUSDT were sold.\n",
      "Wallet Amount after Transactions: 94.82477075744252\n",
      "*********************************************************************\n",
      "On 2022-07-20 07:00:00 265.46323334218215 XRPUSDT were purchased.\n",
      "On 2022-07-27 07:00:00 265.46323334218215 XRPUSDT were sold.\n",
      "Wallet Amount after Transactions: 87.8683302362623\n",
      "*********************************************************************\n",
      "On 2022-07-28 15:00:00 279.87685418415896 XRPUSDT were purchased.\n",
      "On 2022-08-20 15:00:00 279.87685418415896 XRPUSDT were sold.\n",
      "Wallet Amount after Transactions: 95.5779457038903\n",
      "*********************************************************************\n",
      "İnitial Wallet Amount: 100\n",
      "Total Transactions Performed: 10\n",
      "Total Comission: 7.074410943861707\n",
      "Current Wallet Amount: 88.50353476002859\n"
     ]
    }
   ],
   "source": [
    "strategyB(\"XRPUSDT\")"
   ]
  },
  {
   "cell_type": "code",
   "execution_count": 15,
   "id": "3f9619d6",
   "metadata": {},
   "outputs": [
    {
     "name": "stdout",
     "output_type": "stream",
     "text": [
      "*********************************************************************\n",
      "On 2022-02-10 23:00:00 0.032040293873575404 ETHUSDT were purchased.\n",
      "On 2022-02-12 15:00:00 0.032040293873575404 ETHUSDT were sold.\n",
      "Wallet Amount after Transactions: 93.91298496989813\n",
      "*********************************************************************\n",
      "On 2022-02-16 15:00:00 0.03189141610644079 ETHUSDT were purchased.\n",
      "On 2022-02-18 15:00:00 0.03189141610644079 ETHUSDT were sold.\n",
      "Wallet Amount after Transactions: 91.80454388896685\n",
      "*********************************************************************\n",
      "On 2022-03-20 03:00:00 0.03388865543370701 ETHUSDT were purchased.\n",
      "On 2022-04-16 15:00:00 0.03388865543370701 ETHUSDT were sold.\n",
      "Wallet Amount after Transactions: 103.00389041764379\n",
      "*********************************************************************\n",
      "On 2022-07-19 07:00:00 0.06595261963805202 ETHUSDT were purchased.\n",
      "On 2022-08-27 03:00:00 0.06595261963805202 ETHUSDT were sold.\n",
      "Wallet Amount after Transactions: 99.46842188571729\n",
      "*********************************************************************\n",
      "İnitial Wallet Amount: 100\n",
      "Total Transactions Performed: 8\n",
      "Total Comission: 5.911423808716695\n",
      "Current Wallet Amount: 93.5569980770006\n"
     ]
    }
   ],
   "source": [
    "strategyB(\"ETHUSDT\")"
   ]
  },
  {
   "cell_type": "code",
   "execution_count": null,
   "id": "f168751c",
   "metadata": {},
   "outputs": [],
   "source": []
  }
 ],
 "metadata": {
  "kernelspec": {
   "display_name": "Python 3 (ipykernel)",
   "language": "python",
   "name": "python3"
  },
  "language_info": {
   "codemirror_mode": {
    "name": "ipython",
    "version": 3
   },
   "file_extension": ".py",
   "mimetype": "text/x-python",
   "name": "python",
   "nbconvert_exporter": "python",
   "pygments_lexer": "ipython3",
   "version": "3.10.6"
  }
 },
 "nbformat": 4,
 "nbformat_minor": 5
}
